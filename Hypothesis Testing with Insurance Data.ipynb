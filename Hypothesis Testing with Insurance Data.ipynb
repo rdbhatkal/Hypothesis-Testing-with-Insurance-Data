{
 "cells": [
  {
   "cell_type": "markdown",
   "id": "50ea6563",
   "metadata": {},
   "source": [
    "# Load the data"
   ]
  },
  {
   "cell_type": "code",
   "execution_count": 1,
   "id": "ec6b8daa",
   "metadata": {},
   "outputs": [],
   "source": [
    "import pandas as pd\n",
    "import numpy as np\n",
    "import matplotlib.pyplot as plt\n",
    "import seaborn as sns\n",
    "import scipy.stats as stats"
   ]
  },
  {
   "cell_type": "code",
   "execution_count": 2,
   "id": "a664aa52",
   "metadata": {},
   "outputs": [
    {
     "data": {
      "text/html": [
       "<div>\n",
       "<style scoped>\n",
       "    .dataframe tbody tr th:only-of-type {\n",
       "        vertical-align: middle;\n",
       "    }\n",
       "\n",
       "    .dataframe tbody tr th {\n",
       "        vertical-align: top;\n",
       "    }\n",
       "\n",
       "    .dataframe thead th {\n",
       "        text-align: right;\n",
       "    }\n",
       "</style>\n",
       "<table border=\"1\" class=\"dataframe\">\n",
       "  <thead>\n",
       "    <tr style=\"text-align: right;\">\n",
       "      <th></th>\n",
       "      <th>age</th>\n",
       "      <th>sex</th>\n",
       "      <th>bmi</th>\n",
       "      <th>children</th>\n",
       "      <th>smoker</th>\n",
       "      <th>region</th>\n",
       "      <th>charges</th>\n",
       "    </tr>\n",
       "  </thead>\n",
       "  <tbody>\n",
       "    <tr>\n",
       "      <th>0</th>\n",
       "      <td>19</td>\n",
       "      <td>female</td>\n",
       "      <td>27.900</td>\n",
       "      <td>0</td>\n",
       "      <td>yes</td>\n",
       "      <td>southwest</td>\n",
       "      <td>16884.92400</td>\n",
       "    </tr>\n",
       "    <tr>\n",
       "      <th>1</th>\n",
       "      <td>18</td>\n",
       "      <td>male</td>\n",
       "      <td>33.770</td>\n",
       "      <td>1</td>\n",
       "      <td>no</td>\n",
       "      <td>southeast</td>\n",
       "      <td>1725.55230</td>\n",
       "    </tr>\n",
       "    <tr>\n",
       "      <th>2</th>\n",
       "      <td>28</td>\n",
       "      <td>male</td>\n",
       "      <td>33.000</td>\n",
       "      <td>3</td>\n",
       "      <td>no</td>\n",
       "      <td>southeast</td>\n",
       "      <td>4449.46200</td>\n",
       "    </tr>\n",
       "    <tr>\n",
       "      <th>3</th>\n",
       "      <td>33</td>\n",
       "      <td>male</td>\n",
       "      <td>22.705</td>\n",
       "      <td>0</td>\n",
       "      <td>no</td>\n",
       "      <td>northwest</td>\n",
       "      <td>21984.47061</td>\n",
       "    </tr>\n",
       "    <tr>\n",
       "      <th>4</th>\n",
       "      <td>32</td>\n",
       "      <td>male</td>\n",
       "      <td>28.880</td>\n",
       "      <td>0</td>\n",
       "      <td>no</td>\n",
       "      <td>northwest</td>\n",
       "      <td>3866.85520</td>\n",
       "    </tr>\n",
       "  </tbody>\n",
       "</table>\n",
       "</div>"
      ],
      "text/plain": [
       "   age     sex     bmi  children smoker     region      charges\n",
       "0   19  female  27.900         0    yes  southwest  16884.92400\n",
       "1   18    male  33.770         1     no  southeast   1725.55230\n",
       "2   28    male  33.000         3     no  southeast   4449.46200\n",
       "3   33    male  22.705         0     no  northwest  21984.47061\n",
       "4   32    male  28.880         0     no  northwest   3866.85520"
      ]
     },
     "execution_count": 2,
     "metadata": {},
     "output_type": "execute_result"
    }
   ],
   "source": [
    "url ='https://docs.google.com/spreadsheets/d/e/2PACX-1vQBN8DPW2rdiRrY34eEM53HAzakNGSRrw4ogI-j8HyCUrbqTB_z4CeIn2IvjLF-w_6sOe5pIlypJGAA/pub?output=csv'\n",
    "df = pd.read_csv(url)\n",
    "df.head()"
   ]
  },
  {
   "cell_type": "markdown",
   "id": "a043e006",
   "metadata": {},
   "source": [
    "# Q1. Do smokers have higher insurance charges than non-smokers?"
   ]
  },
  {
   "cell_type": "markdown",
   "id": "ea04acf4",
   "metadata": {},
   "source": [
    "## 1.State your Null Hypothesis and Alternative Hypothesis\n"
   ]
  },
  {
   "cell_type": "markdown",
   "id": "eba1e821",
   "metadata": {},
   "source": [
    "Null Hypothesis: There is no significant difference between the insurance charge for smokers vs non smokers\n",
    "\n",
    "Alternative Hypothesis: There is a significant difference between the insurance charge for smokers vs non smokers\n",
    "\n",
    "Significance Level (Alpha): For this test, our alpha value is 0.05."
   ]
  },
  {
   "cell_type": "markdown",
   "id": "102e1634",
   "metadata": {},
   "source": [
    "## 2.Select the correct test according to the data type and number of samples"
   ]
  },
  {
   "cell_type": "markdown",
   "id": "2ebdb745",
   "metadata": {},
   "source": [
    "Explore the data:"
   ]
  },
  {
   "cell_type": "code",
   "execution_count": 3,
   "id": "ffd95332",
   "metadata": {},
   "outputs": [
    {
     "name": "stdout",
     "output_type": "stream",
     "text": [
      "<class 'pandas.core.frame.DataFrame'>\n",
      "RangeIndex: 1338 entries, 0 to 1337\n",
      "Data columns (total 7 columns):\n",
      " #   Column    Non-Null Count  Dtype  \n",
      "---  ------    --------------  -----  \n",
      " 0   age       1338 non-null   int64  \n",
      " 1   sex       1338 non-null   object \n",
      " 2   bmi       1338 non-null   float64\n",
      " 3   children  1338 non-null   int64  \n",
      " 4   smoker    1338 non-null   object \n",
      " 5   region    1338 non-null   object \n",
      " 6   charges   1338 non-null   float64\n",
      "dtypes: float64(2), int64(2), object(3)\n",
      "memory usage: 73.3+ KB\n"
     ]
    }
   ],
   "source": [
    "df.info()"
   ]
  },
  {
   "cell_type": "code",
   "execution_count": 8,
   "id": "1db1a23e",
   "metadata": {},
   "outputs": [
    {
     "data": {
      "text/plain": [
       "age           int64\n",
       "sex          object\n",
       "bmi         float64\n",
       "children      int64\n",
       "smoker       object\n",
       "region       object\n",
       "charges     float64\n",
       "dtype: object"
      ]
     },
     "execution_count": 8,
     "metadata": {},
     "output_type": "execute_result"
    }
   ],
   "source": [
    "df.dtypes"
   ]
  },
  {
   "cell_type": "code",
   "execution_count": 9,
   "id": "711364d6",
   "metadata": {},
   "outputs": [
    {
     "data": {
      "text/plain": [
       "no     1064\n",
       "yes     274\n",
       "Name: smoker, dtype: int64"
      ]
     },
     "execution_count": 9,
     "metadata": {},
     "output_type": "execute_result"
    }
   ],
   "source": [
    "# see how many smokers and non smokers\n",
    "df['smoker'].value_counts()"
   ]
  },
  {
   "cell_type": "code",
   "execution_count": 10,
   "id": "62cbddea",
   "metadata": {},
   "outputs": [],
   "source": [
    "# Filtering out those who smoke and those who dont smoke\n",
    "smoke_df = df.loc[df['smoker']== \"yes\"].copy()\n",
    "no_smoke_df = df.loc[df['smoker']== \"no\"].copy()"
   ]
  },
  {
   "cell_type": "code",
   "execution_count": 11,
   "id": "7dd7832d",
   "metadata": {},
   "outputs": [],
   "source": [
    "#Define our feature of interest\n",
    "smoke_charges = smoke_df['charges']\n",
    "no_smoke_charges = no_smoke_df['charges']"
   ]
  },
  {
   "cell_type": "markdown",
   "id": "e518022f",
   "metadata": {},
   "source": [
    "**Based on the data we have we will use the Independent t-test (2-sample)**"
   ]
  },
  {
   "cell_type": "markdown",
   "id": "f8f8ec1b",
   "metadata": {},
   "source": [
    "## 3.Test the assumptions for Independent t-test."
   ]
  },
  {
   "cell_type": "markdown",
   "id": "73532fb9",
   "metadata": {},
   "source": [
    "### Check for & Remove Outliers"
   ]
  },
  {
   "cell_type": "code",
   "execution_count": 12,
   "id": "ae6f0b6f",
   "metadata": {},
   "outputs": [
    {
     "data": {
      "text/plain": [
       "0"
      ]
     },
     "execution_count": 12,
     "metadata": {},
     "output_type": "execute_result"
    }
   ],
   "source": [
    "# Check for outliers in smoker group\n",
    "zscores1= stats.zscore(smoke_charges)\n",
    "outliers1 = abs(zscores1)>3\n",
    "np.sum(outliers1)"
   ]
  },
  {
   "cell_type": "code",
   "execution_count": 13,
   "id": "996a4d1a",
   "metadata": {},
   "outputs": [
    {
     "data": {
      "text/plain": [
       "24"
      ]
     },
     "execution_count": 13,
     "metadata": {},
     "output_type": "execute_result"
    }
   ],
   "source": [
    "# Check for outliers in non smoker group\n",
    "zscores2= stats.zscore(no_smoke_charges)\n",
    "outliers2 = abs(zscores2)>3\n",
    "np.sum(outliers2)"
   ]
  },
  {
   "cell_type": "markdown",
   "id": "68f186aa",
   "metadata": {},
   "source": [
    "We have outliers so we need to remove these"
   ]
  },
  {
   "cell_type": "code",
   "execution_count": 14,
   "id": "c22794d7",
   "metadata": {},
   "outputs": [],
   "source": [
    "# remove outliers from non smoker group\n",
    "no_smoke_charges = no_smoke_charges[(np.abs(stats.zscore(no_smoke_charges)) < 3)]"
   ]
  },
  {
   "cell_type": "code",
   "execution_count": 15,
   "id": "58029008",
   "metadata": {},
   "outputs": [
    {
     "data": {
      "text/plain": [
       "19"
      ]
     },
     "execution_count": 15,
     "metadata": {},
     "output_type": "execute_result"
    }
   ],
   "source": [
    "# Check for outliers in non smoker group again\n",
    "zscores3= stats.zscore(no_smoke_charges)\n",
    "outliers3 = abs(zscores3)>3\n",
    "np.sum(outliers3)"
   ]
  },
  {
   "cell_type": "markdown",
   "id": "67682210",
   "metadata": {},
   "source": [
    "### Check for Normality"
   ]
  },
  {
   "cell_type": "code",
   "execution_count": 16,
   "id": "ddb93e4b",
   "metadata": {},
   "outputs": [
    {
     "data": {
      "text/plain": [
       "NormaltestResult(statistic=61.03941356533816, pvalue=5.564930630036463e-14)"
      ]
     },
     "execution_count": 16,
     "metadata": {},
     "output_type": "execute_result"
    }
   ],
   "source": [
    "# test the smoke group for normality\n",
    "result_smoke_charges = stats.normaltest(smoke_charges)\n",
    "result_smoke_charges"
   ]
  },
  {
   "cell_type": "code",
   "execution_count": 17,
   "id": "85d41e4d",
   "metadata": {},
   "outputs": [
    {
     "data": {
      "text/plain": [
       "NormaltestResult(statistic=163.80367047789198, pvalue=2.6945416315543976e-36)"
      ]
     },
     "execution_count": 17,
     "metadata": {},
     "output_type": "execute_result"
    }
   ],
   "source": [
    "# test the non-smoke group for normality\n",
    "result_no_smoke_charges = stats.normaltest(no_smoke_charges)\n",
    "result_no_smoke_charges"
   ]
  },
  {
   "cell_type": "markdown",
   "id": "bd1b9564",
   "metadata": {},
   "source": [
    "**Our p-values for both group are well below 0.05 which means our data is NOT normally distributed. Since, our our sample size is large enough we proceed without satisfying this test.\n",
    "Since we have sample sizes of 15 per group, this is considered sufficient for independent test**"
   ]
  },
  {
   "cell_type": "markdown",
   "id": "697b4e27",
   "metadata": {},
   "source": [
    "### Test Assumption of Equal Variance"
   ]
  },
  {
   "cell_type": "code",
   "execution_count": 18,
   "id": "2135c8dc",
   "metadata": {},
   "outputs": [
    {
     "data": {
      "text/plain": [
       "LeveneResult(statistic=520.7468821724297, pvalue=2.4247238784347824e-97)"
      ]
     },
     "execution_count": 18,
     "metadata": {},
     "output_type": "execute_result"
    }
   ],
   "source": [
    "# Test for equal variance\n",
    "result = stats.levene(smoke_charges, no_smoke_charges)\n",
    "result"
   ]
  },
  {
   "cell_type": "markdown",
   "id": "8a4a66b2",
   "metadata": {},
   "source": [
    "We don't have equal variances. So we add (equal_var=False)"
   ]
  },
  {
   "cell_type": "markdown",
   "id": "1fc85dc9",
   "metadata": {},
   "source": [
    "## 4.Execute the selected test, or the alternative test (if you do not meet the assumptions)"
   ]
  },
  {
   "cell_type": "code",
   "execution_count": 19,
   "id": "e635fba9",
   "metadata": {},
   "outputs": [
    {
     "data": {
      "text/plain": [
       "Ttest_indResult(statistic=33.732305987092516, pvalue=2.575322662587431e-104)"
      ]
     },
     "execution_count": 19,
     "metadata": {},
     "output_type": "execute_result"
    }
   ],
   "source": [
    "# Independent t-test with equal_var set to False\n",
    "result = stats.ttest_ind(smoke_charges, no_smoke_charges, equal_var = False)\n",
    "result"
   ]
  },
  {
   "cell_type": "markdown",
   "id": "acbf0242",
   "metadata": {},
   "source": [
    "## 5.Interpret your p-value and reject or fail to reject your null hypothesis"
   ]
  },
  {
   "cell_type": "markdown",
   "id": "a1d5cd8e",
   "metadata": {},
   "source": [
    "**Our p value < alpha (0.05), so we reject the null hypothesis and accept that there is a significant difference between the insurance charge of smokers vs non-smokers**"
   ]
  },
  {
   "cell_type": "markdown",
   "id": "90791e27",
   "metadata": {},
   "source": [
    "## 6.Show a supporting visualization that helps display the result"
   ]
  },
  {
   "cell_type": "code",
   "execution_count": 21,
   "id": "e94e330c",
   "metadata": {},
   "outputs": [
    {
     "data": {
      "image/png": "[encoded data removed]",
      "text/plain": [
       "<Figure size 720x432 with 1 Axes>"
      ]
     },
     "metadata": {
      "needs_background": "light"
     },
     "output_type": "display_data"
    }
   ],
   "source": [
    "fig,ax = plt.subplots(figsize=(10,6))\n",
    "sns.histplot(smoke_df,x='charges', ax=ax,stat='density', kde = True, color='orange')\n",
    "sns.histplot(no_smoke_df,x='charges', ax=ax,stat='density', kde = True)\n",
    "ax.axvline(smoke_df['charges'].mean(),ls='--', color = 'red',label=f'Mean_Charger_Smoker = {(smoke_df[\"charges\"].mean()):,.2f}')\n",
    "ax.axvline(no_smoke_df['charges'].mean(),ls='--', color = 'green',label=f'Mean_Charger_NonSmoker = {(no_smoke_df[\"charges\"].mean()):,.2f}')\n",
    "ax.set_title(f'Density distribution for Insurance Charge')\n",
    "ax.legend();"
   ]
  },
  {
   "cell_type": "markdown",
   "id": "61637861",
   "metadata": {},
   "source": [
    "# Q2. Are men more likely to smoke than women?"
   ]
  },
  {
   "cell_type": "markdown",
   "id": "7640f1ae",
   "metadata": {},
   "source": [
    "## 1.State your Null Hypothesis and Alternative Hypothesis"
   ]
  },
  {
   "cell_type": "markdown",
   "id": "e863ff55",
   "metadata": {},
   "source": [
    "Null Hypothesis: There is no relationship between Gender of the person and if someone is a smoker or non-smoker\n",
    "\n",
    "Alternative Hypothesis: The Gender of the person influences if someone is a smoker or not a smoker\n",
    "\n",
    "Significance Level (Alpha): For this test, our alpha value is 0.05."
   ]
  },
  {
   "cell_type": "markdown",
   "id": "21d076a5",
   "metadata": {},
   "source": [
    "## 2.Select the correct test according to the data type and number of samples"
   ]
  },
  {
   "cell_type": "markdown",
   "id": "6adfbf88",
   "metadata": {},
   "source": [
    "Explore the data:"
   ]
  },
  {
   "cell_type": "code",
   "execution_count": 22,
   "id": "e9d26588",
   "metadata": {},
   "outputs": [
    {
     "name": "stdout",
     "output_type": "stream",
     "text": [
      "<class 'pandas.core.frame.DataFrame'>\n",
      "RangeIndex: 1338 entries, 0 to 1337\n",
      "Data columns (total 7 columns):\n",
      " #   Column    Non-Null Count  Dtype  \n",
      "---  ------    --------------  -----  \n",
      " 0   age       1338 non-null   int64  \n",
      " 1   sex       1338 non-null   object \n",
      " 2   bmi       1338 non-null   float64\n",
      " 3   children  1338 non-null   int64  \n",
      " 4   smoker    1338 non-null   object \n",
      " 5   region    1338 non-null   object \n",
      " 6   charges   1338 non-null   float64\n",
      "dtypes: float64(2), int64(2), object(3)\n",
      "memory usage: 73.3+ KB\n"
     ]
    }
   ],
   "source": [
    "df.info()"
   ]
  },
  {
   "cell_type": "code",
   "execution_count": 23,
   "id": "2dddd0f0",
   "metadata": {},
   "outputs": [
    {
     "data": {
      "text/plain": [
       "age           int64\n",
       "sex          object\n",
       "bmi         float64\n",
       "children      int64\n",
       "smoker       object\n",
       "region       object\n",
       "charges     float64\n",
       "dtype: object"
      ]
     },
     "execution_count": 23,
     "metadata": {},
     "output_type": "execute_result"
    }
   ],
   "source": [
    "df.dtypes"
   ]
  },
  {
   "cell_type": "markdown",
   "id": "cea0234c",
   "metadata": {},
   "source": [
    "Since we are evaluating a binary target category vs categorical groups we use Chi-Squared Test"
   ]
  },
  {
   "cell_type": "code",
   "execution_count": 24,
   "id": "ad6197d2",
   "metadata": {},
   "outputs": [
    {
     "data": {
      "text/html": [
       "<div>\n",
       "<style scoped>\n",
       "    .dataframe tbody tr th:only-of-type {\n",
       "        vertical-align: middle;\n",
       "    }\n",
       "\n",
       "    .dataframe tbody tr th {\n",
       "        vertical-align: top;\n",
       "    }\n",
       "\n",
       "    .dataframe thead th {\n",
       "        text-align: right;\n",
       "    }\n",
       "</style>\n",
       "<table border=\"1\" class=\"dataframe\">\n",
       "  <thead>\n",
       "    <tr style=\"text-align: right;\">\n",
       "      <th>smoker</th>\n",
       "      <th>no</th>\n",
       "      <th>yes</th>\n",
       "    </tr>\n",
       "    <tr>\n",
       "      <th>sex</th>\n",
       "      <th></th>\n",
       "      <th></th>\n",
       "    </tr>\n",
       "  </thead>\n",
       "  <tbody>\n",
       "    <tr>\n",
       "      <th>female</th>\n",
       "      <td>547</td>\n",
       "      <td>115</td>\n",
       "    </tr>\n",
       "    <tr>\n",
       "      <th>male</th>\n",
       "      <td>517</td>\n",
       "      <td>159</td>\n",
       "    </tr>\n",
       "  </tbody>\n",
       "</table>\n",
       "</div>"
      ],
      "text/plain": [
       "smoker   no  yes\n",
       "sex             \n",
       "female  547  115\n",
       "male    517  159"
      ]
     },
     "execution_count": 24,
     "metadata": {},
     "output_type": "execute_result"
    }
   ],
   "source": [
    "# calculate the contingency table with pd.cross-tab\n",
    "table = pd.crosstab(df['sex'], df['smoker'])\n",
    "table"
   ]
  },
  {
   "cell_type": "markdown",
   "id": "3e600678",
   "metadata": {},
   "source": [
    "## 3.Test the assumptions for Chi-Square test"
   ]
  },
  {
   "cell_type": "code",
   "execution_count": null,
   "id": "e6f6ccf2",
   "metadata": {},
   "outputs": [],
   "source": []
  },
  {
   "cell_type": "code",
   "execution_count": null,
   "id": "57da73c0",
   "metadata": {},
   "outputs": [],
   "source": []
  },
  {
   "cell_type": "markdown",
   "id": "0e15e1db",
   "metadata": {},
   "source": [
    "## 4.Execute the selected test, or the alternative test (if you do not meet the assumptions)"
   ]
  },
  {
   "cell_type": "code",
   "execution_count": 25,
   "id": "e52585ed",
   "metadata": {},
   "outputs": [],
   "source": [
    "# Run the Test and Save the Output\n",
    "result = stats.chi2_contingency(table)\n",
    "chi2, p, deg_free, expected_vals = result"
   ]
  },
  {
   "cell_type": "markdown",
   "id": "d9af17b2",
   "metadata": {},
   "source": [
    "## 5.Interpret your p-value and reject or fail to reject your null hypothesis"
   ]
  },
  {
   "cell_type": "code",
   "execution_count": 26,
   "id": "da8cf621",
   "metadata": {},
   "outputs": [
    {
     "name": "stdout",
     "output_type": "stream",
     "text": [
      "0.006548143503580696\n"
     ]
    },
    {
     "data": {
      "text/plain": [
       "True"
      ]
     },
     "execution_count": 26,
     "metadata": {},
     "output_type": "execute_result"
    }
   ],
   "source": [
    "print(p)\n",
    "p<.05"
   ]
  },
  {
   "cell_type": "markdown",
   "id": "cc8f46d8",
   "metadata": {},
   "source": [
    "**Since our p < .05, we reject the null hypothesis that there is no relationship between a Gender and if they are a Smoker.\n",
    "This means that we accept the alternate hypothesis and conclude that there is a relationship between a persons Gender and whether or not they are a smoker**"
   ]
  },
  {
   "cell_type": "markdown",
   "id": "33609ba2",
   "metadata": {},
   "source": [
    "## 6.Show a supporting visualization that helps display the result"
   ]
  },
  {
   "cell_type": "code",
   "execution_count": 27,
   "id": "56d0c611",
   "metadata": {},
   "outputs": [
    {
     "data": {
      "image/png": "[encoded data removed]",
      "text/plain": [
       "<Figure size 432x288 with 1 Axes>"
      ]
     },
     "metadata": {
      "needs_background": "light"
     },
     "output_type": "display_data"
    }
   ],
   "source": [
    "# let's visualize smokers by sex\n",
    "ax = sns.countplot(data=df, x='sex',hue='smoker',)\n",
    "ax.set_title(\"Number of smoker by Sex\");\n"
   ]
  },
  {
   "cell_type": "markdown",
   "id": "f0d66bf4",
   "metadata": {},
   "source": [
    "# Q3. Do different regions have different charges, on average?"
   ]
  },
  {
   "cell_type": "markdown",
   "id": "e077bfa3",
   "metadata": {},
   "source": [
    "## 1.State your Null Hypothesis and Alternative Hypothesis"
   ]
  },
  {
   "cell_type": "markdown",
   "id": "b3afb053",
   "metadata": {},
   "source": [
    "Null Hypothesis: Different regions have the same charges on average\n",
    "\n",
    "Alternative Hypothesis: Different regions have different charges on average\n",
    "\n",
    "Significance Level (Alpha): For this test, our alpha value is 0.05."
   ]
  },
  {
   "cell_type": "markdown",
   "id": "985aac76",
   "metadata": {},
   "source": [
    "## 2.Select the correct test according to the data type and number of samples"
   ]
  },
  {
   "cell_type": "markdown",
   "id": "b009477c",
   "metadata": {},
   "source": [
    "Explore the data:"
   ]
  },
  {
   "cell_type": "code",
   "execution_count": 28,
   "id": "719ab478",
   "metadata": {},
   "outputs": [
    {
     "data": {
      "text/plain": [
       "southeast    364\n",
       "southwest    325\n",
       "northwest    325\n",
       "northeast    324\n",
       "Name: region, dtype: int64"
      ]
     },
     "execution_count": 28,
     "metadata": {},
     "output_type": "execute_result"
    }
   ],
   "source": [
    "# see the value counts for region\n",
    "df['region'].value_counts()"
   ]
  },
  {
   "cell_type": "markdown",
   "id": "c01149a7",
   "metadata": {},
   "source": [
    "Since we have 1 variable/feature with more than 2 groups that we want to compare we will use the ANOVA test"
   ]
  },
  {
   "cell_type": "code",
   "execution_count": 29,
   "id": "b027d785",
   "metadata": {},
   "outputs": [
    {
     "data": {
      "text/plain": [
       "dict_keys(['southwest', 'southeast', 'northwest', 'northeast'])"
      ]
     },
     "execution_count": 29,
     "metadata": {},
     "output_type": "execute_result"
    }
   ],
   "source": [
    "## Create groups dictionary. \n",
    "groups = {}\n",
    "## Loop through all unique categories\n",
    "for i in df['region'].unique():\n",
    "    ## Get series for group and rename\n",
    "    data = df.loc[df['region']==i,'charges'].copy()\n",
    "    \n",
    "    # save into the dictionary\n",
    "    groups[i] = data\n",
    "groups.keys()"
   ]
  },
  {
   "cell_type": "markdown",
   "id": "01bfe4f1",
   "metadata": {},
   "source": [
    "## 3.Test the assumptions for ANOVA test."
   ]
  },
  {
   "cell_type": "markdown",
   "id": "7f6daa4e",
   "metadata": {},
   "source": [
    "### Check for & Remove Outliers"
   ]
  },
  {
   "cell_type": "markdown",
   "id": "32ceb702",
   "metadata": {},
   "source": [
    "#### southwest"
   ]
  },
  {
   "cell_type": "code",
   "execution_count": 30,
   "id": "4ee94bab",
   "metadata": {},
   "outputs": [
    {
     "data": {
      "text/plain": [
       "8"
      ]
     },
     "execution_count": 30,
     "metadata": {},
     "output_type": "execute_result"
    }
   ],
   "source": [
    "# Check for outliers in southwest\n",
    "zscores1= stats.zscore(groups['southwest'])\n",
    "outliers1 = abs(zscores1)>3\n",
    "np.sum(outliers1)"
   ]
  },
  {
   "cell_type": "markdown",
   "id": "6bf072cb",
   "metadata": {},
   "source": [
    "We have outliers so we need to remove these"
   ]
  },
  {
   "cell_type": "code",
   "execution_count": 31,
   "id": "ae293119",
   "metadata": {},
   "outputs": [],
   "source": [
    "# remove outliers from southwest group\n",
    "groups['southwest'] = groups['southwest'][(np.abs(stats.zscore(groups['southwest'])) < 3)]"
   ]
  },
  {
   "cell_type": "markdown",
   "id": "b7e7c2c9",
   "metadata": {},
   "source": [
    "#### southeast"
   ]
  },
  {
   "cell_type": "code",
   "execution_count": 32,
   "id": "5ff38fe5",
   "metadata": {},
   "outputs": [
    {
     "data": {
      "text/plain": [
       "2"
      ]
     },
     "execution_count": 32,
     "metadata": {},
     "output_type": "execute_result"
    }
   ],
   "source": [
    "# Check for outliers in southwest\n",
    "zscores2= stats.zscore(groups['southeast'])\n",
    "outliers2 = abs(zscores2)>3\n",
    "np.sum(outliers2)"
   ]
  },
  {
   "cell_type": "markdown",
   "id": "5cc3c4f4",
   "metadata": {},
   "source": [
    "We have outliers so we need to remove these"
   ]
  },
  {
   "cell_type": "code",
   "execution_count": 33,
   "id": "ba1ecf96",
   "metadata": {},
   "outputs": [],
   "source": [
    "# remove outliers from southeast\n",
    "groups['southeast'] = groups['southeast'][(np.abs(stats.zscore(groups['southeast'])) < 3)]"
   ]
  },
  {
   "cell_type": "markdown",
   "id": "ce9a3020",
   "metadata": {},
   "source": [
    "#### northwest"
   ]
  },
  {
   "cell_type": "code",
   "execution_count": 34,
   "id": "0c2dd8ba",
   "metadata": {},
   "outputs": [
    {
     "data": {
      "text/plain": [
       "7"
      ]
     },
     "execution_count": 34,
     "metadata": {},
     "output_type": "execute_result"
    }
   ],
   "source": [
    "# Check for outliers in northwest\n",
    "zscores3= stats.zscore(groups['northwest'])\n",
    "outliers3 = abs(zscores3)>3\n",
    "np.sum(outliers3)"
   ]
  },
  {
   "cell_type": "markdown",
   "id": "caac99ea",
   "metadata": {},
   "source": [
    "We have outliers so we need to remove these"
   ]
  },
  {
   "cell_type": "code",
   "execution_count": 35,
   "id": "14527bf5",
   "metadata": {},
   "outputs": [],
   "source": [
    "# remove outliers from northwest\n",
    "groups['northwest'] = groups['northwest'][(np.abs(stats.zscore(groups['northwest'])) < 3)]"
   ]
  },
  {
   "cell_type": "markdown",
   "id": "e98e5d76",
   "metadata": {},
   "source": [
    "#### northeast"
   ]
  },
  {
   "cell_type": "code",
   "execution_count": 36,
   "id": "7f26c3b7",
   "metadata": {},
   "outputs": [
    {
     "data": {
      "text/plain": [
       "2"
      ]
     },
     "execution_count": 36,
     "metadata": {},
     "output_type": "execute_result"
    }
   ],
   "source": [
    "# Check for outliers in non smoker group\n",
    "zscores4= stats.zscore(groups['northeast'])\n",
    "outliers4 = abs(zscores2)>3\n",
    "np.sum(outliers4)"
   ]
  },
  {
   "cell_type": "markdown",
   "id": "e6e5390d",
   "metadata": {},
   "source": [
    "We have outliers so we need to remove these"
   ]
  },
  {
   "cell_type": "code",
   "execution_count": 37,
   "id": "4295782a",
   "metadata": {},
   "outputs": [],
   "source": [
    "# remove outliers from northeast\n",
    "groups['northeast'] = groups['northeast'][(np.abs(stats.zscore(groups['northeast'])) < 3)]"
   ]
  },
  {
   "cell_type": "markdown",
   "id": "efd5b8df",
   "metadata": {},
   "source": [
    "### Check for Normality"
   ]
  },
  {
   "cell_type": "code",
   "execution_count": 38,
   "id": "4e4b0770",
   "metadata": {},
   "outputs": [
    {
     "data": {
      "text/html": [
       "<div>\n",
       "<style scoped>\n",
       "    .dataframe tbody tr th:only-of-type {\n",
       "        vertical-align: middle;\n",
       "    }\n",
       "\n",
       "    .dataframe tbody tr th {\n",
       "        vertical-align: top;\n",
       "    }\n",
       "\n",
       "    .dataframe thead th {\n",
       "        text-align: right;\n",
       "    }\n",
       "</style>\n",
       "<table border=\"1\" class=\"dataframe\">\n",
       "  <thead>\n",
       "    <tr style=\"text-align: right;\">\n",
       "      <th></th>\n",
       "      <th>n</th>\n",
       "      <th>p</th>\n",
       "      <th>test stat</th>\n",
       "    </tr>\n",
       "  </thead>\n",
       "  <tbody>\n",
       "    <tr>\n",
       "      <th>southwest</th>\n",
       "      <td>317.0</td>\n",
       "      <td>7.728611e-22</td>\n",
       "      <td>97.223886</td>\n",
       "    </tr>\n",
       "    <tr>\n",
       "      <th>southeast</th>\n",
       "      <td>362.0</td>\n",
       "      <td>1.936990e-13</td>\n",
       "      <td>58.544942</td>\n",
       "    </tr>\n",
       "    <tr>\n",
       "      <th>northwest</th>\n",
       "      <td>318.0</td>\n",
       "      <td>2.940543e-19</td>\n",
       "      <td>85.341045</td>\n",
       "    </tr>\n",
       "    <tr>\n",
       "      <th>northeast</th>\n",
       "      <td>320.0</td>\n",
       "      <td>3.557877e-17</td>\n",
       "      <td>75.749565</td>\n",
       "    </tr>\n",
       "  </tbody>\n",
       "</table>\n",
       "</div>"
      ],
      "text/plain": [
       "               n             p  test stat\n",
       "southwest  317.0  7.728611e-22  97.223886\n",
       "southeast  362.0  1.936990e-13  58.544942\n",
       "northwest  318.0  2.940543e-19  85.341045\n",
       "northeast  320.0  3.557877e-17  75.749565"
      ]
     },
     "execution_count": 38,
     "metadata": {},
     "output_type": "execute_result"
    }
   ],
   "source": [
    "## Running normal test on each group and confirming there are >20 in each group\n",
    "norm_results = {}\n",
    "for i, data in groups.items():\n",
    "    stat, p = stats.normaltest(data)\n",
    "    ## save the p val, test statistic, and the size of the group\n",
    "    norm_results[i] = {'n': len(data),\n",
    "                             'p':p,\n",
    "                             'test stat':stat,}\n",
    "## convert to a dataframe\n",
    "norm_results_df = pd.DataFrame(norm_results).T\n",
    "norm_results_df"
   ]
  },
  {
   "cell_type": "code",
   "execution_count": 39,
   "id": "b969bf7b",
   "metadata": {},
   "outputs": [
    {
     "data": {
      "text/html": [
       "<div>\n",
       "<style scoped>\n",
       "    .dataframe tbody tr th:only-of-type {\n",
       "        vertical-align: middle;\n",
       "    }\n",
       "\n",
       "    .dataframe tbody tr th {\n",
       "        vertical-align: top;\n",
       "    }\n",
       "\n",
       "    .dataframe thead th {\n",
       "        text-align: right;\n",
       "    }\n",
       "</style>\n",
       "<table border=\"1\" class=\"dataframe\">\n",
       "  <thead>\n",
       "    <tr style=\"text-align: right;\">\n",
       "      <th></th>\n",
       "      <th>n</th>\n",
       "      <th>p</th>\n",
       "      <th>test stat</th>\n",
       "      <th>sig</th>\n",
       "    </tr>\n",
       "  </thead>\n",
       "  <tbody>\n",
       "    <tr>\n",
       "      <th>southwest</th>\n",
       "      <td>317.0</td>\n",
       "      <td>7.728611e-22</td>\n",
       "      <td>97.223886</td>\n",
       "      <td>True</td>\n",
       "    </tr>\n",
       "    <tr>\n",
       "      <th>southeast</th>\n",
       "      <td>362.0</td>\n",
       "      <td>1.936990e-13</td>\n",
       "      <td>58.544942</td>\n",
       "      <td>True</td>\n",
       "    </tr>\n",
       "    <tr>\n",
       "      <th>northwest</th>\n",
       "      <td>318.0</td>\n",
       "      <td>2.940543e-19</td>\n",
       "      <td>85.341045</td>\n",
       "      <td>True</td>\n",
       "    </tr>\n",
       "    <tr>\n",
       "      <th>northeast</th>\n",
       "      <td>320.0</td>\n",
       "      <td>3.557877e-17</td>\n",
       "      <td>75.749565</td>\n",
       "      <td>True</td>\n",
       "    </tr>\n",
       "  </tbody>\n",
       "</table>\n",
       "</div>"
      ],
      "text/plain": [
       "               n             p  test stat   sig\n",
       "southwest  317.0  7.728611e-22  97.223886  True\n",
       "southeast  362.0  1.936990e-13  58.544942  True\n",
       "northwest  318.0  2.940543e-19  85.341045  True\n",
       "northeast  320.0  3.557877e-17  75.749565  True"
      ]
     },
     "execution_count": 39,
     "metadata": {},
     "output_type": "execute_result"
    }
   ],
   "source": [
    "### checking sig with pandas \n",
    "norm_results_df['sig'] = norm_results_df['p'] < .05 \n",
    "norm_results_df"
   ]
  },
  {
   "cell_type": "markdown",
   "id": "1e06b300",
   "metadata": {},
   "source": [
    "We can see that each group does not have a normal distribution."
   ]
  },
  {
   "cell_type": "markdown",
   "id": "462268f9",
   "metadata": {},
   "source": [
    "Our p-values for all 4 group are well below 0.05 which means our data is NOT normally distributed. Since, our sample size is large enough we proceed without satisfying this test.\n",
    "\n",
    "Since we have sample sizes of 15 per group, this is considered sufficient for ANOVA test."
   ]
  },
  {
   "cell_type": "markdown",
   "id": "51986195",
   "metadata": {},
   "source": [
    "### Test Assumption of Equal Variance"
   ]
  },
  {
   "cell_type": "code",
   "execution_count": 41,
   "id": "b1a41a7f",
   "metadata": {},
   "outputs": [
    {
     "data": {
      "text/plain": [
       "LeveneResult(statistic=9.518349004554441, pvalue=3.2035503711783993e-06)"
      ]
     },
     "execution_count": 41,
     "metadata": {},
     "output_type": "execute_result"
    }
   ],
   "source": [
    "# Test for equal variance\n",
    "stats.levene(*groups.values())"
   ]
  },
  {
   "cell_type": "markdown",
   "id": "b7c8c9e9",
   "metadata": {},
   "source": [
    "Looks like we don't have equal variances so we need to run a non-parametric test"
   ]
  },
  {
   "cell_type": "markdown",
   "id": "6e92cd96",
   "metadata": {},
   "source": [
    "## 4.Execute the selected test, or the alternative test (if you do not meet the assumptions)\n"
   ]
  },
  {
   "cell_type": "code",
   "execution_count": 42,
   "id": "d52f3113",
   "metadata": {},
   "outputs": [
    {
     "data": {
      "text/plain": [
       "KruskalResult(statistic=6.914045702545643, pvalue=0.07468847911322242)"
      ]
     },
     "execution_count": 42,
     "metadata": {},
     "output_type": "execute_result"
    }
   ],
   "source": [
    "# perform the correct hypothesis test\n",
    "# note again the use of the * operator for convenience\n",
    "result = stats.kruskal( *groups.values())\n",
    "result\n"
   ]
  },
  {
   "cell_type": "markdown",
   "id": "0325b2de",
   "metadata": {},
   "source": [
    "## 5.Interpret your p-value and reject or fail to reject your null hypothesis"
   ]
  },
  {
   "cell_type": "markdown",
   "id": "a0845359",
   "metadata": {},
   "source": [
    "**Our p value > alpha (0.05), so we accept the null hypothesis that Different regions have the same charges on average**"
   ]
  },
  {
   "cell_type": "markdown",
   "id": "9d649829",
   "metadata": {},
   "source": [
    "## 6.Show a supporting visualization that helps display the result"
   ]
  },
  {
   "cell_type": "code",
   "execution_count": 43,
   "id": "5cce4bbc",
   "metadata": {},
   "outputs": [
    {
     "data": {
      "image/png": "[encoded data removed]",
      "text/plain": [
       "<Figure size 432x288 with 1 Axes>"
      ]
     },
     "metadata": {
      "needs_background": "light"
     },
     "output_type": "display_data"
    }
   ],
   "source": [
    "sns.barplot(data=df, x='region',y='charges');"
   ]
  },
  {
   "cell_type": "code",
   "execution_count": null,
   "id": "0b0f5848",
   "metadata": {},
   "outputs": [],
   "source": []
  }
 ],
 "metadata": {
  "kernelspec": {
   "display_name": "Python (dojo-env)",
   "language": "python",
   "name": "dojo-env"
  },
  "language_info": {
   "codemirror_mode": {
    "name": "ipython",
    "version": 3
   },
   "file_extension": ".py",
   "mimetype": "text/x-python",
   "name": "python",
   "nbconvert_exporter": "python",
   "pygments_lexer": "ipython3",
   "version": "3.8.13"
  },
  "toc": {
   "base_numbering": 1,
   "nav_menu": {},
   "number_sections": false,
   "sideBar": true,
   "skip_h1_title": false,
   "title_cell": "Table of Contents",
   "title_sidebar": "Contents",
   "toc_cell": false,
   "toc_position": {},
   "toc_section_display": true,
   "toc_window_display": true
  }
 },
 "nbformat": 4,
 "nbformat_minor": 5
}
